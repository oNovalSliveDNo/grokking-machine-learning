{
 "cells": [
  {
   "cell_type": "code",
   "execution_count": 1,
   "id": "8c938394-a633-4043-a409-ec86bbb9b324",
   "metadata": {},
   "outputs": [],
   "source": [
    "import numpy as np\n",
    "import pandas as pd\n",
    "import matplotlib.pyplot as plt\n",
    "import random\n",
    "from IPython.display import display, Math"
   ]
  },
  {
   "cell_type": "markdown",
   "id": "d5f0fed6-1ac1-4828-b984-f73c5680e355",
   "metadata": {},
   "source": [
    "# Псевдокод для алгоритма линейной регрессии (геометрический)"
   ]
  },
  {
   "cell_type": "markdown",
   "id": "3109a591-3942-4819-a628-8bb2969e3125",
   "metadata": {},
   "source": [
    "**Входные данные** — набор точек на плоскости.  \n",
    "**Результат** — прямая, проходящая близко к точкам.  \n",
    "**Процедура:**\n",
    "\n",
    "1. Выберите случайную прямую.\n",
    "2. Повторяйте многократно:\n",
    "   - выберите случайную точку данных;\n",
    "   - переместите прямую немного ближе к ней.\n",
    "\n",
    "**Возврат** — полученная прямая"
   ]
  },
  {
   "cell_type": "markdown",
   "id": "92b064d0-a8d4-4f3c-bf4d-b78fdddc38ab",
   "metadata": {},
   "source": [
    "---\n",
    "Определение некоторых переменных:\n",
    "- $p$ — цена дома в наборе данных;\n",
    "- $\\hat{p}$ — прогнозируемая цена дома;\n",
    "- $r$ — количество комнат;\n",
    "- $m$ — цена за комнату;\n",
    "- $b$ — базовая цена за дом."
   ]
  },
  {
   "cell_type": "markdown",
   "id": "11b33f2e-3a58-47d8-ba48-9d79d1709e87",
   "metadata": {},
   "source": [
    "**Модель прогнозирования цены дома:**\n",
    "\n",
    "$$\n",
    "\\hat{p} = m \\cdot r + b\n",
    "$$\n",
    "\n",
    "Где:\n",
    "- $r$ — количество комнат (входной параметр)\n",
    "- $m = 50$ (цена за комнату)\n",
    "- $b = 100$ (базовая цена)\n",
    "- $\\hat{p}$ — прогнозируемая цена (выход функции)"
   ]
  },
  {
   "cell_type": "code",
   "execution_count": 2,
   "id": "59712e04-6bf0-4705-89a6-a3f8f856b1d0",
   "metadata": {},
   "outputs": [
    {
     "name": "stdout",
     "output_type": "stream",
     "text": [
      "300\n"
     ]
    }
   ],
   "source": [
    "def calc_house_price(r):\n",
    "    \"\"\"\n",
    "    Прогнозирует цену дома на основе количества комнат.\n",
    "    Параметры:\n",
    "        r (int): количество комнат.\n",
    "    Возвращает:\n",
    "        float: прогнозируемая цена.\n",
    "    \"\"\"\n",
    "    m = 50  # цена за комнату\n",
    "    b = 100  # базовая цена\n",
    "    p_hat = m * r + b  # прогнозируемая цена\n",
    "    return p_hat\n",
    "\n",
    "# Пример вызова:\n",
    "print(calc_house_price(4))"
   ]
  },
  {
   "cell_type": "markdown",
   "id": "47af87e5-979a-4cdd-9e00-c7b5c9d5083d",
   "metadata": {},
   "source": [
    "# Псевдокод для алгоритма линейной регрессии"
   ]
  },
  {
   "cell_type": "markdown",
   "id": "57efc005-e74d-4b27-be91-0ef3436d67f6",
   "metadata": {},
   "source": [
    "**Входные данные** — набор данных точек.  \n",
    "**Результат** — модель линейной регрессии, соответствующая этому набору данных.  \n",
    "**Процедура:**\n",
    "\n",
    "1. Выберите модель со случайными весами и случайным смещением.\n",
    "2. Повторяйте многократно:\n",
    "   - выберите случайную точку данных;\n",
    "   - слегка отрегулируйте веса и смещение, чтобы улучшить прогноз для конкретной точки данных.\n",
    "\n",
    "**Возврат** — полученная модель."
   ]
  },
  {
   "cell_type": "markdown",
   "id": "6cbc91ac-533b-4bf1-bec3-464dff4dcbbb",
   "metadata": {},
   "source": [
    "| Аспект               | Геометрический алгоритм                          | Классический алгоритм               |\n",
    "|----------------------|-------------------------------------------------|-------------------------------------|\n",
    "| **Представление**     | Работа с прямой на плоскости                    | Работа с весами модели ($w$, $b$)   |\n",
    "| **Инициализация**     | Случайная прямая ($y = mx + b$)                 | Случайные веса ($w$) и смещение ($b$)|\n",
    "| **Шаг обучения**      | Перемещение прямой ближе к точке                | Корректировка весов и смещения      |\n",
    "| **Когда использовать**| Для наглядного объяснения                       | Для реальных ML-задач               |"
   ]
  },
  {
   "cell_type": "markdown",
   "id": "83287ea5-2c53-44c2-925f-e7c1e575323e",
   "metadata": {},
   "source": [
    "## Простой подход для перемещения прямой ближе к набору точек, по одной точке за раз"
   ]
  },
  {
   "cell_type": "markdown",
   "id": "31af1e92-00c0-4991-a5b3-f876a06fb3d5",
   "metadata": {},
   "source": [
    "Метод состоит в том, чтобы слегка повернуть и переместить прямую в направлении точки и тем самым сблизить их.  \n",
    "Итак, вот четыре сценария:\n",
    "| **📌 Сценарий** | **📍 Положение точки**       | **🔄 Направление вращения**      | **📤 Перемещение прямой** |\n",
    "|--------------|---------------------------|-------------------------------|------------------------|\n",
    "| 1            | 🔴**Над** прямой, 🟡**справа** от оси $Y$ | 🔵**Против** часовой стрелки       | ⏫Вверх                  |\n",
    "| 2            | 🔴**Над** прямой, 🟣**слева** от оси $Y$  | 🟠**По** часовой стрелке           | ⏫Вверх                  |\n",
    "| 3            | 🟢**Под** прямой, 🟡**справа** от оси $Y$ | 🟠**По** часовой стрелке           | ⬇️Вниз                   |\n",
    "| 4            | 🟢**Под** прямой, 🟣**слева** от оси $Y$  | 🔵**Против** часовой стрелки       | ⬇️Вниз                   |"
   ]
  },
  {
   "cell_type": "markdown",
   "id": "66030539-9123-47c6-8e14-e755bcf86809",
   "metadata": {},
   "source": [
    "---\n",
    "Уравнение прямой: $ y = m \\cdot x + b $,\n",
    "\n",
    "где\n",
    "- $m$ — наклон;\n",
    "- $b$ — $Y$-пересечение.\n",
    "\n",
    "В примере с жильём использовали аналогичную нотацию:\n",
    "- точка с координатами $(r, p)$ соответствует дому с $r$ комнатами и ценой $p$;\n",
    "- наклон $m$ соответствует цене за комнату;\n",
    "- $y$-пересечение $b$ соответствует базовой цене дома;\n",
    "- прогноз $ \\hat{p} = m \\cdot r + b $ соответствует прогнозируемой цене дома"
   ]
  },
  {
   "cell_type": "markdown",
   "id": "456f3cc4-0fc9-47fa-9184-71815f407c86",
   "metadata": {},
   "source": [
    "## Псевдокод для простого подхода"
   ]
  },
  {
   "cell_type": "markdown",
   "id": "5a275749-91c6-4f91-885b-7c432463826b",
   "metadata": {},
   "source": [
    "**Входные данные:**\n",
    "1. линия с наклоном $m$, $Y$-пересечением $b$ и уравнением $ \\hat{p} = m \\cdot r + b $\n",
    "2. точка с координатами $(r, p)$.\n",
    "\n",
    "**Результат** — линия $ \\hat{p} = m' \\cdot r + b' $, которая ближе к точке.\n",
    "\n",
    "---\n",
    "\n",
    "**Процедура:**  \n",
    "- Выберите два очень маленьких случайных числа и назовите их  $ \\eta_1 $ и $ \\eta_2 $ (греческая буква *«эта»*).\n",
    "\n",
    "- **Сценарий 1.** Если точка находится 🔴**над** прямой и 🟡**справа** от оси $Y$, вращаем прямую 🔵**против** часовой стрелки и перемещаем ее ⏫**вверх**:\n",
    "  1. ➕Добавляем $ \\eta_1 $ к наклону $m$, получаем $ m' = m + \\eta_1 $\n",
    "  2. ➕Добавляем $ \\eta_2 $ к $Y$-пересечению $b$, получаем $ b' = b + \\eta_2 $\n",
    "\n",
    "- **Сценарий 2.** Если точка находится 🔴**над** прямой и 🟣**слева** от оси $Y$, вращаем прямую 🟠**по** часовой стрелке и перемещаем ее ⏫**вверх**:\n",
    "  1. ➖Вычитаем $ \\eta_1 $ из наклона $m$, получаем $ m' = m - \\eta_1 $  \n",
    "  2. ➕Добавляем $ \\eta_2 $ к $Y$-пересечению $b$, получаем $ b' = b + \\eta_2 $  \n",
    "\n",
    "- **Сценарий 3.** Если точка находится 🟢**под** прямой и 🟡**справа** от оси $Y$, вращаем прямую 🟠**по** часовой стрелке и перемещаем ее ⬇️**вниз**:\n",
    "  1. ➖Вычитаем $ \\eta_1 $ из наклона $m$, получаем $ m' = m - \\eta_1 $  \n",
    "  2. ➖Вычитаем $ \\eta_2 $ из $Y$-пересечения $b$, получаем $ b' = b - \\eta_2 $  \n",
    "\n",
    "- **Сценарий 4.** Если точка находится 🟢**под** прямой и 🟣**слева** от оси $Y$, вращаем прямую 🔵**против** часовой стрелки и перемещаем ее ⬇️**вниз**:\n",
    "  1. ➕Добавляем $ \\eta_1 $ к наклону $m$, получаем $ m' = m + \\eta_1 $  \n",
    "  2. ➖Вычитаем $ \\eta_2 $ из $Y$-пересечения $b$, получаем $ b' = b - \\eta_2 $\n",
    "\n",
    "**Возврат** — прямая $ \\hat{p} = m' \\cdot r + b' $"
   ]
  },
  {
   "cell_type": "markdown",
   "id": "0289a44c-e2e8-4efd-bb84-3eb1808ef512",
   "metadata": {},
   "source": [
    "---\n",
    "\n",
    "Поскольку координата $x$ — количество комнат, это число **не может быть отрицательным**.  \n",
    "Таким образом, здесь важны только сценарии 1 и 3.\n",
    "\n",
    "---"
   ]
  },
  {
   "cell_type": "markdown",
   "id": "b5c051e6-2c30-4e32-b5cc-de5b40d34251",
   "metadata": {},
   "source": [
    "## Квадратический подход — более умный способ приблизить прямую к одной из точек"
   ]
  },
  {
   "cell_type": "markdown",
   "id": "7c13ab01-b6c1-4b2c-93fb-b99faf29726d",
   "metadata": {},
   "source": [
    "**Вывод 1: Корректировка смещения (Y-пересечения)**  \n",
    "Если добавить разность $( p - \\hat{p} )$ к смещению $( b )$, прямая будет двигаться к точке, так как:  \n",
    "- $( p - \\hat{p} > 0 $) (точка **выше** прямой) → смещение **увеличивается** (линия сдвигается вверх).  \n",
    "- $( p - \\hat{p} < 0 $) (точка **ниже** прямой) → смещение **уменьшается** (линия сдвигается вниз).  \n",
    "\n",
    "Однако в машинном обучении шаги должны быть небольшими, поэтому вводится **скорость обучения** $( \\eta )$:  \n",
    "$$\n",
    "b_{\\text{новое}} = b + \\eta \\cdot (p - \\hat{p})\n",
    "$$\n",
    "\n",
    "\n",
    "**Вывод 2: Корректировка наклона (веса признака)**  \n",
    "Рассмотрим величину $( r \\cdot (p - \\hat{p}) )$:  \n",
    "- **Положительна** в сценариях 1 и 4 (точка справа/слева и выше/ниже прямой).  \n",
    "- **Отрицательна** в сценариях 2 и 3 (точка слева/справа и выше/ниже прямой).  \n",
    "\n",
    "Таким образом, добавление $( \\eta \\cdot r \\cdot (p - \\hat{p}) )$ к наклону $( m )$ всегда приближает прямую к точке:  \n",
    "$$\n",
    "m_{\\text{новое}} = m + \\eta \\cdot r \\cdot (p - \\hat{p})\n",
    "$$\n",
    "\n",
    "**Итоговые правила обновления:**\n",
    "$$\n",
    "\\begin{cases}\n",
    "m' = m + \\eta \\cdot r \\cdot (p - \\hat{p}), \\\\\n",
    "b' = b + \\eta \\cdot (p - \\hat{p}).\n",
    "\\end{cases}\n",
    "$$\n",
    "\n",
    "**Пояснение:**   \n",
    "- $( \\eta )$ (эта) — скорость обучения, малая константа (например, 0.01).  \n",
    "- $( p - \\hat{p} )$ — ошибка прогноза (разница между истинным и предсказанным значениями).  \n",
    "- Множитель $( r )$ масштабирует влияние признака на корректировку."
   ]
  },
  {
   "cell_type": "markdown",
   "id": "17b8d06e-def9-409b-9a76-42655fc9f40d",
   "metadata": {},
   "source": [
    "## Псевдокод для квадратического подхода"
   ]
  },
  {
   "cell_type": "markdown",
   "id": "3b57f0c3-1f7f-4bdc-a17d-4111d33a01bb",
   "metadata": {},
   "source": [
    "**Входные данные:**\n",
    "1. прямая с наклоном $m$, $Y$-пересечением $b$ и уравнением $ \\hat{p} = m \\cdot r + b $\n",
    "2. точка с координатами $(r, p)$;\n",
    "3. небольшое положительное значение (скорость обучения).\n",
    "\n",
    "**Результат** — прямая $ \\hat{p} = m' \\cdot r + b' $, которая находится ближе к точке.\n",
    "\n",
    "---\n",
    "\n",
    "**Процедура:**  \n",
    "- Добавляем $ \\eta \\cdot r \\cdot (p - \\hat{p}) $ к наклону $m$, получаем $ m' = m + \\eta \\cdot r \\cdot (p - \\hat{p}) $ (при этом прямая вращается).\n",
    "- Добавляем $ \\eta \\cdot (p - \\hat{p}) $ к $Y$-пересечению $b$, получаем $ b' = b + \\eta \\cdot (p - \\hat{p}) $ (это перемещает прямую).\n",
    "\n",
    "**Возврат** — прямая $ \\hat{p} = m' \\cdot r + b' $."
   ]
  },
  {
   "cell_type": "markdown",
   "id": "20af298b-ca1c-4392-a85a-2d9d41dad736",
   "metadata": {},
   "source": [
    "## Код для простого подхода"
   ]
  },
  {
   "cell_type": "code",
   "execution_count": 3,
   "id": "c9eac041-241f-4110-b869-d286cdc92398",
   "metadata": {},
   "outputs": [],
   "source": [
    "def simple_trick(base_price, price_per_room, num_rooms, price):\n",
    "    \"\"\"Простой метод корректировки весов и смещения.\"\"\"\n",
    "    small_random_1 = random.random() * 0.1\n",
    "    small_random_2 = random.random() * 0.1\n",
    "\n",
    "    predicted_price = base_price + price_per_room * num_rooms\n",
    "\n",
    "    if price > predicted_price and num_rooms > 0:\n",
    "        price_per_room += small_random_1\n",
    "        base_price += small_random_2\n",
    "\n",
    "    if price > predicted_price and num_rooms < 0:\n",
    "        price_per_room -= small_random_1\n",
    "        base_price += small_random_2\n",
    "\n",
    "    if price < predicted_price and num_rooms > 0:\n",
    "        price_per_room -= small_random_1\n",
    "        base_price -= small_random_2\n",
    "\n",
    "    if price < predicted_price and num_rooms < 0:\n",
    "        price_per_room -= small_random_1\n",
    "        base_price += small_random_2\n",
    "\n",
    "    return price_per_room, base_price"
   ]
  },
  {
   "cell_type": "markdown",
   "id": "01509b58-adf6-44e9-b6e0-fe26f73f628a",
   "metadata": {},
   "source": [
    "## Код для абсолютного подхода"
   ]
  },
  {
   "cell_type": "code",
   "execution_count": 4,
   "id": "2725cd38-c0a1-4431-9720-17b308342a1d",
   "metadata": {},
   "outputs": [],
   "source": [
    "def absolute_trick(base_price, price_per_room, num_rooms, price, learning_rate):\n",
    "    \"\"\"Метод, минимизирующий абсолютную ошибку.\"\"\"\n",
    "    predicted_price = base_price + price_per_room * num_rooms\n",
    "\n",
    "    if price > predicted_price:\n",
    "        price_per_room += learning_rate * num_rooms\n",
    "        base_price += learning_rate\n",
    "\n",
    "    else:\n",
    "        price_per_room -= learning_rate * num_rooms\n",
    "        base_price -= learning_rate\n",
    "\n",
    "    return price_per_room, base_price"
   ]
  },
  {
   "cell_type": "markdown",
   "id": "fc8442fd-9f27-43bd-8dc6-5f6339e76612",
   "metadata": {},
   "source": [
    "## Код для квадратического подхода"
   ]
  },
  {
   "cell_type": "code",
   "execution_count": 5,
   "id": "ef206ddd-1e5c-40c5-8923-881242d8963d",
   "metadata": {},
   "outputs": [],
   "source": [
    "def square_trick(base_price, price_per_room, num_rooms, price, learning_rate):\n",
    "    \"\"\"Метод, минимизирующий среднеквадратичную ошибку.\"\"\"\n",
    "    predicted_price = base_price + price_per_room * num_rooms  # вычисляет прогноз\n",
    "    error = price - predicted_price\n",
    "    base_price += learning_rate * error # перемещает прямую\n",
    "    price_per_room += learning_rate * num_rooms * error  # вращает прямую\n",
    "    return price_per_room, base_price"
   ]
  },
  {
   "cell_type": "markdown",
   "id": "61b9dfc7-90a7-489c-aee1-bdf355845612",
   "metadata": {},
   "source": [
    "# Алгоритм линейной регрессии. Многократное повторение абсолютного или квадратического подхода для приближения прямой к точкам"
   ]
  },
  {
   "cell_type": "markdown",
   "id": "a710233d-f23d-42d9-afd0-184f2f60e506",
   "metadata": {},
   "source": [
    "Этот алгоритм принимает в качестве входных данных набор точек и возвращает прямую, которая хорошо им соответствует.  \n",
    "Он состоит в том, чтобы начать со случайных значений для существующих наклона и y-пересечения, а затем многократно повторять процедуру их обновления с использованием абсолютного или квадратического подхода."
   ]
  },
  {
   "cell_type": "code",
   "execution_count": 6,
   "id": "fe1dde1b-2b9e-4452-bf2b-0e782cfa6167",
   "metadata": {},
   "outputs": [],
   "source": [
    "def linear_regression(features, labels, learning_rate=0.01, epochs=1000, trick='square'):\n",
    "    # генерируем случайные значения для наклона и y-пересечения\n",
    "    price_per_room = random.random()\n",
    "    base_price = random.random()\n",
    "\n",
    "    # повторяем шаг обновления много раз\n",
    "    for epoch in range(epochs):\n",
    "        i = random.randint(0, len(features) - 1)  # выбираем случайную точку в наборе данных\n",
    "\n",
    "        num_rooms = features[i]\n",
    "        price = labels[i]\n",
    "\n",
    "        if trick == 'square':\n",
    "            # применяем квадратический подход\n",
    "            price_per_room, base_price = square_trick(base_price,\n",
    "                                                      price_per_room,\n",
    "                                                      num_rooms,\n",
    "                                                      price,\n",
    "                                                      learning_rate=learning_rate)\n",
    "    return price_per_room, base_price"
   ]
  },
  {
   "cell_type": "markdown",
   "id": "e00952aa-c215-4d0d-a57e-f5f2ec8c8a20",
   "metadata": {},
   "source": [
    "# Загрузка данных и построение их графика"
   ]
  },
  {
   "cell_type": "code",
   "execution_count": 7,
   "id": "026bbff1-c75a-4486-aac0-c235e03259a7",
   "metadata": {},
   "outputs": [],
   "source": [
    "# Данные\n",
    "features = np.array([1, 2, 3, 5, 6, 7])\n",
    "labels = np.array([155, 197, 244, 356, 407, 448])"
   ]
  },
  {
   "cell_type": "code",
   "execution_count": 8,
   "id": "27dbe367-5406-4adf-9de7-5d3d59ac8760",
   "metadata": {},
   "outputs": [
    {
     "ename": "NameError",
     "evalue": "name 'draw_line' is not defined",
     "output_type": "error",
     "traceback": [
      "\u001b[31m---------------------------------------------------------------------------\u001b[39m",
      "\u001b[31mNameError\u001b[39m                                 Traceback (most recent call last)",
      "\u001b[36mCell\u001b[39m\u001b[36m \u001b[39m\u001b[32mIn[8]\u001b[39m\u001b[32m, line 5\u001b[39m\n\u001b[32m      2\u001b[39m final_slope, final_intercept = linear_regression(features, labels, epochs=\u001b[32m10000\u001b[39m)\n\u001b[32m      4\u001b[39m plt.figure(figsize=(\u001b[32m12\u001b[39m, \u001b[32m4\u001b[39m))\n\u001b[32m----> \u001b[39m\u001b[32m5\u001b[39m \u001b[43mdraw_line\u001b[49m(final_slope, final_intercept, start=\u001b[32m0\u001b[39m, end=\u001b[32m8\u001b[39m)\n\u001b[32m      6\u001b[39m plot_points(features, labels)\n\u001b[32m      7\u001b[39m plt.title(\u001b[33m'\u001b[39m\u001b[33mЛинейная регрессия: Итоговая модель\u001b[39m\u001b[33m'\u001b[39m, fontsize=\u001b[32m14\u001b[39m)\n",
      "\u001b[31mNameError\u001b[39m: name 'draw_line' is not defined"
     ]
    },
    {
     "data": {
      "text/plain": [
       "<Figure size 1200x400 with 0 Axes>"
      ]
     },
     "metadata": {},
     "output_type": "display_data"
    }
   ],
   "source": [
    "# График с итоговой прямой регрессии\n",
    "final_slope, final_intercept = linear_regression(features, labels, epochs=10000)\n",
    "\n",
    "plt.figure(figsize=(12, 4))\n",
    "draw_line(final_slope, final_intercept, start=0, end=8)\n",
    "plot_points(features, labels)\n",
    "plt.title('Линейная регрессия: Итоговая модель', fontsize=14)\n",
    "plt.xlabel('Количество комнат', fontsize=12)\n",
    "plt.ylabel('Цена', fontsize=12)\n",
    "plt.xlim(0, 8)\n",
    "plt.ylim(0, 550)\n",
    "plt.show()"
   ]
  },
  {
   "cell_type": "code",
   "execution_count": null,
   "id": "46df3e83-a8e0-42e7-9457-b3d4b58d0a06",
   "metadata": {},
   "outputs": [],
   "source": [
    "# Функция для прогнозирования и вывода уравнения\n",
    "def predict_and_show_equation(features, labels, learning_rate=0.01, epochs=10000):\n",
    "    slope, intercept = linear_regression(features, labels, learning_rate, epochs)\n",
    "\n",
    "    # Вывод уравнения в LaTeX (используем сырую строку `r` для корректного отображения)\n",
    "    display(Math(rf'\\hat{{p}} = {intercept:.2f} + {slope:.2f} \\cdot r'))\n",
    "\n",
    "    # Функция для прогнозирования\n",
    "    def predict(rooms_count):\n",
    "        return intercept + slope * rooms_count\n",
    "\n",
    "    # Пример прогноза\n",
    "    print(\"\\nПример прогноза для 4 комнат:\")\n",
    "    print(f\"Предсказанная цена: {predict(4):.2f}\")\n",
    "\n",
    "    return predict"
   ]
  },
  {
   "cell_type": "code",
   "execution_count": null,
   "id": "2a0e2442-fcfd-4088-8f9d-223781f97c4b",
   "metadata": {},
   "outputs": [],
   "source": [
    "# Использование\n",
    "model = predict_and_show_equation(features, labels)"
   ]
  },
  {
   "cell_type": "markdown",
   "id": "c3f7aabf-62b5-442c-b3e2-7ebb13833344",
   "metadata": {},
   "source": [
    "# Функции ошибок"
   ]
  },
  {
   "cell_type": "code",
   "execution_count": null,
   "id": "774b46cd-e31d-45bb-a55d-3310ab385f67",
   "metadata": {},
   "outputs": [],
   "source": [
    "def rmse(labels, predictions):\n",
    "    \"\"\"Корень из средней квадратичной ошибки.\"\"\"\n",
    "    differences = np.subtract(labels, predictions)\n",
    "    return np.sqrt(np.mean(differences ** 2))"
   ]
  },
  {
   "cell_type": "code",
   "execution_count": null,
   "id": "c4f75e26-dde6-41cb-867a-d91fb4c50874",
   "metadata": {},
   "outputs": [],
   "source": []
  },
  {
   "cell_type": "code",
   "execution_count": null,
   "id": "2b4c5c0d-1a89-496b-9ee5-091409b93cf5",
   "metadata": {},
   "outputs": [],
   "source": []
  },
  {
   "cell_type": "code",
   "execution_count": null,
   "id": "0d4fafc5-c368-4d32-af78-8c6b021cda43",
   "metadata": {},
   "outputs": [],
   "source": []
  },
  {
   "cell_type": "code",
   "execution_count": null,
   "id": "6e330531-246d-45de-b7cc-a419a5a496dd",
   "metadata": {},
   "outputs": [],
   "source": []
  },
  {
   "cell_type": "code",
   "execution_count": null,
   "id": "0f0710b3-2b2d-414e-be17-f5bb44ddaad5",
   "metadata": {},
   "outputs": [],
   "source": []
  },
  {
   "cell_type": "code",
   "execution_count": null,
   "id": "0a36fb56-35ef-4a4d-9ac5-e5a90cc0641b",
   "metadata": {},
   "outputs": [],
   "source": []
  },
  {
   "cell_type": "code",
   "execution_count": null,
   "id": "5c37b9ff-f875-49e7-ad9f-a4753f1516a7",
   "metadata": {},
   "outputs": [],
   "source": []
  },
  {
   "cell_type": "code",
   "execution_count": null,
   "id": "3430df3d-66ba-426b-b5f5-149aa6e4d310",
   "metadata": {},
   "outputs": [],
   "source": []
  },
  {
   "cell_type": "code",
   "execution_count": null,
   "id": "b0b138ab-2836-4df1-a31d-72571205371e",
   "metadata": {},
   "outputs": [],
   "source": []
  },
  {
   "cell_type": "code",
   "execution_count": null,
   "id": "9988e16c-3dd2-41dd-a5cd-f30be1ee02f0",
   "metadata": {},
   "outputs": [],
   "source": []
  },
  {
   "cell_type": "code",
   "execution_count": null,
   "id": "e51fc903-cabd-4f83-821a-7e4b47848039",
   "metadata": {},
   "outputs": [],
   "source": []
  },
  {
   "cell_type": "code",
   "execution_count": null,
   "id": "08ceafc5-9fb5-4546-a547-58cc5f3f97b9",
   "metadata": {},
   "outputs": [],
   "source": []
  },
  {
   "cell_type": "code",
   "execution_count": null,
   "id": "66be6345-e938-41db-9761-0e0c41e37dff",
   "metadata": {},
   "outputs": [],
   "source": []
  },
  {
   "cell_type": "code",
   "execution_count": null,
   "id": "f139e6d0-99c4-4e15-a626-325a7ececb6a",
   "metadata": {},
   "outputs": [],
   "source": []
  },
  {
   "cell_type": "code",
   "execution_count": null,
   "id": "be00c8b7-380d-4d68-968b-dadbd6fce318",
   "metadata": {},
   "outputs": [],
   "source": []
  },
  {
   "cell_type": "code",
   "execution_count": null,
   "id": "4cdb3d7e-a950-4468-9e41-ecc302b144ad",
   "metadata": {},
   "outputs": [],
   "source": []
  },
  {
   "cell_type": "code",
   "execution_count": null,
   "id": "a068bfc9-ad9b-45b3-812b-a5d73aa31f85",
   "metadata": {},
   "outputs": [],
   "source": []
  },
  {
   "cell_type": "code",
   "execution_count": null,
   "id": "3e724ad4-1870-42ae-82ec-9fed4d7807ec",
   "metadata": {},
   "outputs": [],
   "source": []
  },
  {
   "cell_type": "code",
   "execution_count": null,
   "id": "96e85a3f-88d8-42f6-8d62-1fee149d1e46",
   "metadata": {},
   "outputs": [],
   "source": []
  },
  {
   "cell_type": "code",
   "execution_count": null,
   "id": "d12a5871-48cb-42eb-b017-c45d59f5d57a",
   "metadata": {},
   "outputs": [],
   "source": []
  },
  {
   "cell_type": "code",
   "execution_count": null,
   "id": "d7cee351-e521-4436-a39d-53df7cc19949",
   "metadata": {},
   "outputs": [],
   "source": []
  },
  {
   "cell_type": "code",
   "execution_count": null,
   "id": "ef482885-c48a-4086-bb0d-2ea8044838f9",
   "metadata": {},
   "outputs": [],
   "source": []
  },
  {
   "cell_type": "code",
   "execution_count": null,
   "id": "2bd86731-8a82-4ba1-9211-208b67dcc35d",
   "metadata": {},
   "outputs": [],
   "source": []
  },
  {
   "cell_type": "code",
   "execution_count": null,
   "id": "53afbaeb-2bae-4108-b359-0a42cafd5e22",
   "metadata": {},
   "outputs": [],
   "source": []
  },
  {
   "cell_type": "code",
   "execution_count": null,
   "id": "88b6f3bd-2827-44da-81bd-0765d4fbcf0b",
   "metadata": {},
   "outputs": [],
   "source": []
  },
  {
   "cell_type": "code",
   "execution_count": null,
   "id": "2d008366-a295-498e-9bbf-9da0e0dac956",
   "metadata": {},
   "outputs": [],
   "source": []
  },
  {
   "cell_type": "code",
   "execution_count": null,
   "id": "0dfdace2-abf6-4a68-8209-f924bb6a8e3c",
   "metadata": {},
   "outputs": [],
   "source": []
  },
  {
   "cell_type": "code",
   "execution_count": null,
   "id": "a933efca-14ab-43ba-baf3-c4c2bea95619",
   "metadata": {},
   "outputs": [],
   "source": []
  },
  {
   "cell_type": "code",
   "execution_count": null,
   "id": "7e937053-f06b-43d5-94f0-40b71a0ce3aa",
   "metadata": {},
   "outputs": [],
   "source": []
  },
  {
   "cell_type": "code",
   "execution_count": null,
   "id": "2e99d3dd-418d-418a-ae8a-7a36b4dd292e",
   "metadata": {},
   "outputs": [],
   "source": []
  }
 ],
 "metadata": {
  "kernelspec": {
   "display_name": "Python 3 (ipykernel)",
   "language": "python",
   "name": "python3"
  },
  "language_info": {
   "codemirror_mode": {
    "name": "ipython",
    "version": 3
   },
   "file_extension": ".py",
   "mimetype": "text/x-python",
   "name": "python",
   "nbconvert_exporter": "python",
   "pygments_lexer": "ipython3",
   "version": "3.13.3"
  }
 },
 "nbformat": 4,
 "nbformat_minor": 5
}
